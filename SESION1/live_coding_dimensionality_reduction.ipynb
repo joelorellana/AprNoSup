{
 "cells": [
  {
   "cell_type": "markdown",
   "metadata": {},
   "source": [
    "# Live Coding: Reducción Dimensional Avanzada y Feature Engineering\n",
    "## PCA vs UMAP vs t-SNE - Análisis Comparativo\n",
    "\n",
    "**Duración:** 90 minutos  \n",
    "**Dataset:** Mice Protein Expression (UCI ML Repository)  \n",
    "**Objetivo:** Comparar técnicas de reducción dimensional con feature engineering avanzado\n",
    "\n",
    "### Agenda:\n",
    "1. **[15 min]** Exploración y Feature Engineering\n",
    "2. **[20 min]** PCA: Análisis de componentes principales\n",
    "3. **[20 min]** t-SNE: Preservación de estructura local\n",
    "4. **[20 min]** UMAP: Balance entre local y global\n",
    "5. **[15 min]** Comparación cuantitativa y conclusiones"
   ]
  },
  {
   "cell_type": "code",
   "execution_count": null,
   "metadata": {},
   "outputs": [],
   "source": [
    "# Instalación de dependencias\n",
    "!pip install umap-learn pandas numpy scikit-learn matplotlib seaborn plotly scipy openpyxl -q"
   ]
  },
  {
   "cell_type": "code",
   "execution_count": null,
   "metadata": {},
   "outputs": [],
   "source": [
    "import pandas as pd\n",
    "import numpy as np\n",
    "import matplotlib.pyplot as plt\n",
    "import seaborn as sns\n",
    "import plotly.express as px\n",
    "import plotly.graph_objects as go\n",
    "from plotly.subplots import make_subplots\n",
    "\n",
    "from sklearn.preprocessing import StandardScaler, RobustScaler, PowerTransformer\n",
    "from sklearn.decomposition import PCA\n",
    "from sklearn.manifold import TSNE\n",
    "from sklearn.neighbors import NearestNeighbors\n",
    "from sklearn.metrics import silhouette_score, calinski_harabasz_score, davies_bouldin_score\n",
    "from scipy.stats import pearsonr, spearmanr\n",
    "from scipy.spatial.distance import pdist, squareform\n",
    "import umap\n",
    "\n",
    "import warnings\n",
    "warnings.filterwarnings('ignore')\n",
    "\n",
    "plt.style.use('seaborn-v0_8-darkgrid')\n",
    "sns.set_palette(\"husl\")\n",
    "%matplotlib inline"
   ]
  },
  {
   "cell_type": "markdown",
   "metadata": {},
   "source": [
    "---\n",
    "## 1. Carga y Exploración del Dataset\n",
    "\n",
    "**Mice Protein Expression Dataset:**\n",
    "- 1080 muestras de expresión de proteínas en ratones\n",
    "- 77 proteínas medidas\n",
    "- 8 clases (diferentes condiciones experimentales)\n",
    "- Datos con valores faltantes y outliers"
   ]
  },
  {
   "cell_type": "code",
   "execution_count": null,
   "metadata": {},
   "outputs": [],
   "source": [
    "url = 'https://archive.ics.uci.edu/ml/machine-learning-databases/00342/Data_Cortex_Nuclear.xls'\n",
    "df = pd.read_excel(url)\n",
    "\n",
    "print(f\"Shape: {df.shape}\")\n",
    "print(f\"\\nClases: {df['class'].unique()}\")\n",
    "df.head()"
   ]
  },
  {
   "cell_type": "code",
   "execution_count": null,
   "metadata": {},
   "outputs": [],
   "source": [
    "fig, axes = plt.subplots(2, 2, figsize=(15, 10))\n",
    "\n",
    "missing = df.isnull().sum().sort_values(ascending=False).head(20)\n",
    "axes[0, 0].barh(range(len(missing)), missing.values)\n",
    "axes[0, 0].set_yticks(range(len(missing)))\n",
    "axes[0, 0].set_yticklabels(missing.index, fontsize=8)\n",
    "axes[0, 0].set_xlabel('Valores Faltantes')\n",
    "axes[0, 0].set_title('Top 20 Features con Missing Values')\n",
    "\n",
    "df['class'].value_counts().plot(kind='bar', ax=axes[0, 1])\n",
    "axes[0, 1].set_title('Distribución de Clases')\n",
    "axes[0, 1].tick_params(axis='x', rotation=45)\n",
    "\n",
    "protein_cols = df.select_dtypes(include=[np.number]).columns\n",
    "axes[1, 0].hist(df[protein_cols[0]].dropna(), bins=50, edgecolor='black')\n",
    "axes[1, 0].set_title(f'Distribución: {protein_cols[0]}')\n",
    "\n",
    "corr_matrix = df[protein_cols[:10]].corr()\n",
    "sns.heatmap(corr_matrix, annot=False, cmap='coolwarm', ax=axes[1, 1])\n",
    "axes[1, 1].set_title('Correlación entre Proteínas')\n",
    "\n",
    "plt.tight_layout()\n",
    "plt.show()"
   ]
  },
  {
   "cell_type": "markdown",
   "metadata": {},
   "source": [
    "---\n",
    "## 2. Feature Engineering Avanzado"
   ]
  },
  {
   "cell_type": "code",
   "execution_count": null,
   "metadata": {},
   "outputs": [],
   "source": [
    "protein_cols = [col for col in df.columns if '_N' in col]\n",
    "X = df[protein_cols].copy()\n",
    "y = df['class'].copy()\n",
    "\n",
    "print(f\"Features originales: {X.shape[1]}\")\n",
    "print(f\"Muestras: {X.shape[0]}\")"
   ]
  },
  {
   "cell_type": "code",
   "execution_count": null,
   "metadata": {},
   "outputs": [],
   "source": [
    "from sklearn.impute import KNNImputer\n",
    "\n",
    "missing_pct = X.isnull().sum() / len(X)\n",
    "high_missing_cols = missing_pct[missing_pct > 0.3].index\n",
    "low_missing_cols = missing_pct[(missing_pct > 0) & (missing_pct <= 0.3)].index\n",
    "\n",
    "if len(low_missing_cols) > 0:\n",
    "    imputer_knn = KNNImputer(n_neighbors=5, weights='distance')\n",
    "    X[low_missing_cols] = imputer_knn.fit_transform(X[low_missing_cols])\n",
    "\n",
    "if len(high_missing_cols) > 0:\n",
    "    X[high_missing_cols] = X[high_missing_cols].fillna(X[high_missing_cols].median())\n",
    "\n",
    "print(f\"✅ Missing values: {X.isnull().sum().sum()}\")"
   ]
  },
  {
   "cell_type": "code",
   "execution_count": null,
   "metadata": {},
   "outputs": [],
   "source": [
    "X_clean = X.copy()\n",
    "for col in X.columns:\n",
    "    p01 = X[col].quantile(0.01)\n",
    "    p99 = X[col].quantile(0.99)\n",
    "    X_clean[col] = X[col].clip(lower=p01, upper=p99)\n",
    "\n",
    "print(\"✅ Outliers tratados con winsorización\")"
   ]
  },
  {
   "cell_type": "code",
   "execution_count": null,
   "metadata": {},
   "outputs": [],
   "source": [
    "pt = PowerTransformer(method='yeo-johnson', standardize=False)\n",
    "X_transformed = pd.DataFrame(\n",
    "    pt.fit_transform(X_clean),\n",
    "    columns=X_clean.columns,\n",
    "    index=X_clean.index\n",
    ")\n",
    "\n",
    "print(\"✅ Transformación Yeo-Johnson aplicada\")"
   ]
  },
  {
   "cell_type": "code",
   "execution_count": null,
   "metadata": {},
   "outputs": [],
   "source": [
    "X_engineered = X_transformed.copy()\n",
    "\n",
    "X_engineered['mean_expression'] = X_transformed.mean(axis=1)\n",
    "X_engineered['std_expression'] = X_transformed.std(axis=1)\n",
    "X_engineered['max_expression'] = X_transformed.max(axis=1)\n",
    "X_engineered['min_expression'] = X_transformed.min(axis=1)\n",
    "X_engineered['range_expression'] = X_engineered['max_expression'] - X_engineered['min_expression']\n",
    "X_engineered['cv_expression'] = X_engineered['std_expression'] / (X_engineered['mean_expression'] + 1e-10)\n",
    "X_engineered['skew_expression'] = X_transformed.skew(axis=1)\n",
    "X_engineered['kurtosis_expression'] = X_transformed.kurtosis(axis=1)\n",
    "\n",
    "X_engineered['q25_expression'] = X_transformed.quantile(0.25, axis=1)\n",
    "X_engineered['q75_expression'] = X_transformed.quantile(0.75, axis=1)\n",
    "X_engineered['iqr_expression'] = X_engineered['q75_expression'] - X_engineered['q25_expression']\n",
    "\n",
    "corr_matrix = X_transformed.corr()\n",
    "high_corr_pairs = []\n",
    "for i in range(len(corr_matrix.columns)):\n",
    "    for j in range(i+1, len(corr_matrix.columns)):\n",
    "        if abs(corr_matrix.iloc[i, j]) > 0.7:\n",
    "            high_corr_pairs.append((corr_matrix.columns[i], corr_matrix.columns[j]))\n",
    "\n",
    "for idx, (col1, col2) in enumerate(high_corr_pairs[:10]):\n",
    "    X_engineered[f'ratio_{idx}'] = X_transformed[col1] / (X_transformed[col2] + 1e-10)\n",
    "    X_engineered[f'product_{idx}'] = X_transformed[col1] * X_transformed[col2]\n",
    "\n",
    "print(f\"✅ Features creados: {X_engineered.shape[1] - X_transformed.shape[1]}\")\n",
    "print(f\"📊 Total features: {X_engineered.shape[1]}\")"
   ]
  },
  {
   "cell_type": "code",
   "execution_count": null,
   "metadata": {},
   "outputs": [],
   "source": [
    "scaler = RobustScaler()\n",
    "X_scaled = pd.DataFrame(\n",
    "    scaler.fit_transform(X_engineered),\n",
    "    columns=X_engineered.columns,\n",
    "    index=X_engineered.index\n",
    ")\n",
    "\n",
    "print(f\"✅ Dataset preparado: {X_scaled.shape}\")"
   ]
  },
  {
   "cell_type": "markdown",
   "metadata": {},
   "source": [
    "---\n",
    "## 3. PCA: Principal Component Analysis"
   ]
  },
  {
   "cell_type": "code",
   "execution_count": null,
   "metadata": {},
   "outputs": [],
   "source": [
    "pca = PCA(n_components=50)\n",
    "X_pca_full = pca.fit_transform(X_scaled)\n",
    "\n",
    "cumsum_variance = np.cumsum(pca.explained_variance_ratio_)\n",
    "n_components_90 = np.argmax(cumsum_variance >= 0.90) + 1\n",
    "\n",
    "print(f\"Componentes para 90% varianza: {n_components_90}\")\n",
    "\n",
    "fig, axes = plt.subplots(1, 2, figsize=(15, 5))\n",
    "\n",
    "axes[0].bar(range(1, 21), pca.explained_variance_ratio_[:20])\n",
    "axes[0].set_title('Scree Plot')\n",
    "\n",
    "axes[1].plot(range(1, 51), cumsum_variance)\n",
    "axes[1].axhline(y=0.90, color='r', linestyle='--')\n",
    "axes[1].set_title('Varianza Acumulada')\n",
    "\n",
    "plt.tight_layout()\n",
    "plt.show()"
   ]
  },
  {
   "cell_type": "code",
   "execution_count": null,
   "metadata": {},
   "outputs": [],
   "source": [
    "pca_2d = PCA(n_components=2)\n",
    "X_pca_2d = pca_2d.fit_transform(X_scaled)\n",
    "\n",
    "df_pca = pd.DataFrame({\n",
    "    'PC1': X_pca_2d[:, 0],\n",
    "    'PC2': X_pca_2d[:, 1],\n",
    "    'class': y\n",
    "})\n",
    "\n",
    "fig = px.scatter(\n",
    "    df_pca, x='PC1', y='PC2', color='class',\n",
    "    title=f'PCA 2D - Varianza: {sum(pca_2d.explained_variance_ratio_)*100:.2f}%',\n",
    "    width=900, height=600\n",
    ")\n",
    "fig.show()"
   ]
  },
  {
   "cell_type": "markdown",
   "metadata": {},
   "source": [
    "---\n",
    "## 4. t-SNE: t-Distributed Stochastic Neighbor Embedding"
   ]
  },
  {
   "cell_type": "code",
   "execution_count": null,
   "metadata": {},
   "outputs": [],
   "source": [
    "perplexities = [5, 30, 50, 100]\n",
    "tsne_results = {}\n",
    "\n",
    "for perp in perplexities:\n",
    "    print(f\"t-SNE perplexity={perp}...\")\n",
    "    tsne = TSNE(n_components=2, perplexity=perp, random_state=42, n_iter=1000)\n",
    "    tsne_results[perp] = tsne.fit_transform(X_scaled)\n",
    "\n",
    "print(\"✅ t-SNE completado\")"
   ]
  },
  {
   "cell_type": "code",
   "execution_count": null,
   "metadata": {},
   "outputs": [],
   "source": [
    "fig, axes = plt.subplots(2, 2, figsize=(16, 14))\n",
    "axes = axes.ravel()\n",
    "\n",
    "for idx, perp in enumerate(perplexities):\n",
    "    X_tsne = tsne_results[perp]\n",
    "    for class_name in y.unique():\n",
    "        mask = y == class_name\n",
    "        axes[idx].scatter(X_tsne[mask, 0], X_tsne[mask, 1], label=class_name, alpha=0.6, s=30)\n",
    "    axes[idx].set_title(f't-SNE (perplexity={perp})')\n",
    "    axes[idx].legend(fontsize=8)\n",
    "\n",
    "plt.tight_layout()\n",
    "plt.show()"
   ]
  },
  {
   "cell_type": "markdown",
   "metadata": {},
   "source": [
    "---\n",
    "## 5. UMAP: Uniform Manifold Approximation and Projection"
   ]
  },
  {
   "cell_type": "code",
   "execution_count": null,
   "metadata": {},
   "outputs": [],
   "source": [
    "n_neighbors_list = [5, 15, 30, 50]\n",
    "umap_results = {}\n",
    "\n",
    "for n_neigh in n_neighbors_list:\n",
    "    print(f\"UMAP n_neighbors={n_neigh}...\")\n",
    "    reducer = umap.UMAP(n_neighbors=n_neigh, min_dist=0.1, random_state=42)\n",
    "    umap_results[n_neigh] = reducer.fit_transform(X_scaled)\n",
    "\n",
    "print(\"✅ UMAP completado\")"
   ]
  },
  {
   "cell_type": "code",
   "execution_count": null,
   "metadata": {},
   "outputs": [],
   "source": [
    "fig, axes = plt.subplots(2, 2, figsize=(16, 14))\n",
    "axes = axes.ravel()\n",
    "\n",
    "for idx, n_neigh in enumerate(n_neighbors_list):\n",
    "    X_umap = umap_results[n_neigh]\n",
    "    for class_name in y.unique():\n",
    "        mask = y == class_name\n",
    "        axes[idx].scatter(X_umap[mask, 0], X_umap[mask, 1], label=class_name, alpha=0.6, s=30)\n",
    "    axes[idx].set_title(f'UMAP (n_neighbors={n_neigh})')\n",
    "    axes[idx].legend(fontsize=8)\n",
    "\n",
    "plt.tight_layout()\n",
    "plt.show()"
   ]
  },
  {
   "cell_type": "markdown",
   "metadata": {},
   "source": [
    "---\n",
    "## 6. Comparación Cuantitativa"
   ]
  },
  {
   "cell_type": "code",
   "execution_count": null,
   "metadata": {},
   "outputs": [],
   "source": [
    "from sklearn.preprocessing import LabelEncoder\n",
    "\n",
    "le = LabelEncoder()\n",
    "y_encoded = le.fit_transform(y)\n",
    "\n",
    "results = []\n",
    "\n",
    "results.append({\n",
    "    'Method': 'PCA',\n",
    "    'Silhouette': silhouette_score(X_pca_2d, y_encoded),\n",
    "    'Calinski-Harabasz': calinski_harabasz_score(X_pca_2d, y_encoded),\n",
    "    'Davies-Bouldin': davies_bouldin_score(X_pca_2d, y_encoded)\n",
    "})\n",
    "\n",
    "results.append({\n",
    "    'Method': 't-SNE (perp=30)',\n",
    "    'Silhouette': silhouette_score(tsne_results[30], y_encoded),\n",
    "    'Calinski-Harabasz': calinski_harabasz_score(tsne_results[30], y_encoded),\n",
    "    'Davies-Bouldin': davies_bouldin_score(tsne_results[30], y_encoded)\n",
    "})\n",
    "\n",
    "results.append({\n",
    "    'Method': 'UMAP (n=15)',\n",
    "    'Silhouette': silhouette_score(umap_results[15], y_encoded),\n",
    "    'Calinski-Harabasz': calinski_harabasz_score(umap_results[15], y_encoded),\n",
    "    'Davies-Bouldin': davies_bouldin_score(umap_results[15], y_encoded)\n",
    "})\n",
    "\n",
    "df_results = pd.DataFrame(results)\n",
    "print(\"\\n📊 MÉTRICAS DE CLUSTERING:\")\n",
    "print(df_results.to_string(index=False))\n",
    "print(\"\\nNota: Silhouette y Calinski-Harabasz → más alto es mejor\")\n",
    "print(\"      Davies-Bouldin → más bajo es mejor\")"
   ]
  },
  {
   "cell_type": "code",
   "execution_count": null,
   "metadata": {},
   "outputs": [],
   "source": [
    "fig = make_subplots(\n",
    "    rows=1, cols=3,\n",
    "    subplot_titles=('PCA', 't-SNE (perp=30)', 'UMAP (n=15)')\n",
    ")\n",
    "\n",
    "for class_name in y.unique():\n",
    "    mask = y == class_name\n",
    "    fig.add_trace(\n",
    "        go.Scatter(x=X_pca_2d[mask, 0], y=X_pca_2d[mask, 1], mode='markers',\n",
    "                   name=class_name, marker=dict(size=5, opacity=0.6)),\n",
    "        row=1, col=1\n",
    "    )\n",
    "    fig.add_trace(\n",
    "        go.Scatter(x=tsne_results[30][mask, 0], y=tsne_results[30][mask, 1], mode='markers',\n",
    "                   name=class_name, marker=dict(size=5, opacity=0.6), showlegend=False),\n",
    "        row=1, col=2\n",
    "    )\n",
    "    fig.add_trace(\n",
    "        go.Scatter(x=umap_results[15][mask, 0], y=umap_results[15][mask, 1], mode='markers',\n",
    "                   name=class_name, marker=dict(size=5, opacity=0.6), showlegend=False),\n",
    "        row=1, col=3\n",
    "    )\n",
    "\n",
    "fig.update_layout(height=500, width=1400, title_text=\"Comparación: PCA vs t-SNE vs UMAP\")\n",
    "fig.show()"
   ]
  },
  {
   "cell_type": "markdown",
   "metadata": {},
   "source": [
    "---\n",
    "## 7. Conclusiones y Recomendaciones\n",
    "\n",
    "### Cuándo usar cada técnica:\n",
    "\n",
    "**PCA:**\n",
    "- Análisis exploratorio rápido\n",
    "- Reducción de dimensionalidad para ML\n",
    "- Interpretabilidad de componentes\n",
    "- Datasets con relaciones lineales\n",
    "\n",
    "**t-SNE:**\n",
    "- Visualización de clusters\n",
    "- Exploración de estructura local\n",
    "- Presentaciones y papers\n",
    "- ⚠️ NO para reducción dimensional en pipelines ML\n",
    "\n",
    "**UMAP:**\n",
    "- Balance entre local y global\n",
    "- Más rápido que t-SNE\n",
    "- Mejor preservación de estructura\n",
    "- Puede usarse en pipelines ML"
   ]
  }
 ],
 "metadata": {
  "kernelspec": {
   "display_name": "Python 3",
   "language": "python",
   "name": "python3"
  },
  "language_info": {
   "codemirror_mode": {
    "name": "ipython",
    "version": 3
   },
   "file_extension": ".py",
   "mimetype": "text/x-python",
   "name": "python",
   "nbconvert_exporter": "python",
   "pygments_lexer": "ipython3",
   "version": "3.8.0"
  }
 },
 "nbformat": 4,
 "nbformat_minor": 4
}
